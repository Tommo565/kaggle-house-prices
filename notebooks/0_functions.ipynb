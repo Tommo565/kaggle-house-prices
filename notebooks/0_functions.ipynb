{
 "cells": [
  {
   "cell_type": "code",
   "execution_count": 1,
   "metadata": {},
   "outputs": [],
   "source": [
    "import warnings\n",
    "warnings.filterwarnings('ignore')"
   ]
  },
  {
   "cell_type": "code",
   "execution_count": 2,
   "metadata": {},
   "outputs": [],
   "source": [
    "import numpy as np\n",
    "import pandas as pd\n",
    "import matplotlib.pyplot as plt\n",
    "%matplotlib inline"
   ]
  },
  {
   "cell_type": "code",
   "execution_count": 4,
   "metadata": {},
   "outputs": [],
   "source": [
    "def stats_table(df, feature, target):\n",
    "    '''\n",
    "    Gets basic statistics & ranks for a variable.\n",
    "    Returns a dataframe of the results\n",
    "    '''\n",
    "    \n",
    "    tb_mean = df[[feature, target]].groupby(feature).mean()\n",
    "    tb_med = df[[feature, target]].groupby(feature).median()\n",
    "    tb_min = df[[feature, target]].groupby(feature).min()\n",
    "    tb_max = df[[feature, target]].groupby(feature).max()\n",
    "    tb_std = df[[feature, target]].groupby(feature).std()\n",
    "    tb_cnt = df[[feature, target]].groupby(feature).count()\n",
    "\n",
    "    tb = pd.concat([tb_mean, tb_med, tb_min, tb_max, tb_std, tb_cnt], axis=1)\n",
    "    tb.reset_index(inplace=True)\n",
    "    tb.columns = [target, 'mean', 'median', 'min', 'max', 'std', 'cnt']\n",
    "    tb = tb.round(2)\n",
    "\n",
    "    cols = tb.columns.tolist()\n",
    "    cols.remove(target)\n",
    "\n",
    "    for col in cols:\n",
    "        tb['{}_rank'.format(col)] = tb[col].rank()\n",
    "\n",
    "    plt.figure(figsize=(12,5))\n",
    "    g = sns.stripplot(\n",
    "        x=feature, \n",
    "        y=target, \n",
    "        data=df, \n",
    "        size=3,\n",
    "        alpha=1,\n",
    "        palette='deep',\n",
    "        jitter=True\n",
    "    )\n",
    "    plt.title(feature)\n",
    "        \n",
    "    return tb"
   ]
  },
  {
   "cell_type": "code",
   "execution_count": null,
   "metadata": {},
   "outputs": [],
   "source": [
    "def scaler(df, scale_list):\n",
    "    '''\n",
    "    Scales a list of numeric variables, and returns a new \n",
    "    dataframe with the variables appended\n",
    "    '''\n",
    "    \n",
    "    scaler = MinMaxScaler()\n",
    "    for col in scale_list:\n",
    "        col_array = df[col].as_matrix()\n",
    "        arr_scaled = scaler.fit_transform(col_array.reshape(-1, 1))\n",
    "        df['{}_scaled'.format(col)] = arr_scaled\n",
    "        \n",
    "    return df\n",
    "    "
   ]
  },
  {
   "cell_type": "code",
   "execution_count": 5,
   "metadata": {},
   "outputs": [
    {
     "ename": "SyntaxError",
     "evalue": "invalid syntax (<ipython-input-5-e5e907434d22>, line 1)",
     "output_type": "error",
     "traceback": [
      "\u001b[0;36m  File \u001b[0;32m\"<ipython-input-5-e5e907434d22>\"\u001b[0;36m, line \u001b[0;32m1\u001b[0m\n\u001b[0;31m    def one_hot_encoder(df, one_hot_list)\u001b[0m\n\u001b[0m                                         ^\u001b[0m\n\u001b[0;31mSyntaxError\u001b[0m\u001b[0;31m:\u001b[0m invalid syntax\n"
     ]
    }
   ],
   "source": [
    "def one_hot_encoder(df, one_hot_list):\n",
    "    '''\n",
    "    One-hot encodes a list of categorical variables, and returns a new dataframe\n",
    "    '''"
   ]
  },
  {
   "cell_type": "code",
   "execution_count": null,
   "metadata": {},
   "outputs": [],
   "source": []
  }
 ],
 "metadata": {
  "kernelspec": {
   "display_name": "Python 3",
   "language": "python",
   "name": "python3"
  },
  "language_info": {
   "codemirror_mode": {
    "name": "ipython",
    "version": 3
   },
   "file_extension": ".py",
   "mimetype": "text/x-python",
   "name": "python",
   "nbconvert_exporter": "python",
   "pygments_lexer": "ipython3",
   "version": "3.6.4"
  }
 },
 "nbformat": 4,
 "nbformat_minor": 2
}
