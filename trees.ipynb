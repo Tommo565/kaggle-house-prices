{
 "cells": [
  {
   "cell_type": "code",
   "execution_count": 2,
   "metadata": {},
   "outputs": [],
   "source": [
    "# Packages\n",
    "import warnings\n",
    "warnings.filterwarnings('ignore')\n",
    "import pandas as pd\n",
    "import numpy as np\n",
    "import math\n",
    "import matplotlib\n",
    "import matplotlib.pyplot as plt\n",
    "import seaborn as sns\n",
    "%matplotlib inline"
   ]
  },
  {
   "cell_type": "code",
   "execution_count": 3,
   "metadata": {},
   "outputs": [],
   "source": [
    "# Options\n",
    "sns.set_style(\"whitegrid\")\n",
    "pd.set_option('display.max_rows', 100)\n",
    "pd.set_option('display.max_columns', 100)\n",
    "pd.set_option('display.width', -1)"
   ]
  },
  {
   "cell_type": "code",
   "execution_count": 16,
   "metadata": {},
   "outputs": [],
   "source": [
    "explore_in = './data/transformed_data/explore.csv'\n",
    "train_in = './data/transformed_data/model_train.csv'\n",
    "test_in = './data/transformed_data/model_test.csv'\n",
    "model_out = './data/transformed_data/linear_models.csv'\n",
    "keep_features = [\n",
    "    'Id', 'OverallQual', 'PropertyAge', 'OverallGrade', 'ExterGrade', 'CoreArea',\n",
    "     'TotalBsmtSF', '1stFlrSF', '2ndFlrSF', 'GrLivArea', 'TotalArea', 'LotArea',\n",
    "     'FullBath', 'HalfBath', 'TotalBath', 'TotRmsAbvGrd', 'BedroomAbvGr', 'KitchenAbvGr',\n",
    "     'SimpleOverallQual', 'SimpleOverallCond', 'Neighborhood', 'MSZoning', 'BldgType',\n",
    "     'Functional', 'MSSubClass', 'Condition1', 'LotConfig', 'Exterior1st', 'MasVnrType',\n",
    "     'SaleType', 'SaleCondition',  'IsRemodelled', 'IsNew', 'SalePrice',\n",
    "]"
   ]
  },
  {
   "cell_type": "code",
   "execution_count": 19,
   "metadata": {},
   "outputs": [],
   "source": [
    "df = pd.read_csv(train_in, usecols=keep_features)"
   ]
  },
  {
   "cell_type": "code",
   "execution_count": null,
   "metadata": {},
   "outputs": [],
   "source": []
  }
 ],
 "metadata": {
  "kernelspec": {
   "display_name": "Python 3",
   "language": "python",
   "name": "python3"
  },
  "language_info": {
   "codemirror_mode": {
    "name": "ipython",
    "version": 3
   },
   "file_extension": ".py",
   "mimetype": "text/x-python",
   "name": "python",
   "nbconvert_exporter": "python",
   "pygments_lexer": "ipython3",
   "version": "3.6.6"
  }
 },
 "nbformat": 4,
 "nbformat_minor": 2
}
