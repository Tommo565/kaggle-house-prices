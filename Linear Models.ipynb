{
 "cells": [
  {
   "cell_type": "code",
   "execution_count": 292,
   "metadata": {
    "scrolled": true
   },
   "outputs": [],
   "source": [
    "# Packages\n",
    "import warnings\n",
    "warnings.filterwarnings('ignore', category=DeprecationWarning)\n",
    "warnings.filterwarnings('ignore', category=UserWarning)\n",
    "import pandas as pd\n",
    "import numpy as np\n",
    "import math\n",
    "import matplotlib\n",
    "import matplotlib.pyplot as plt\n",
    "import seaborn as sns\n",
    "from house_prices.adhoc_functions.model import vis_all\n",
    "from sklearn.linear_model import LassoCV, Lasso, RidgeCV, Ridge, ElasticNetCV, BayesianRidge\n",
    "from sklearn.model_selection import GridSearchCV, train_test_split\n",
    "from sklearn.metrics import mean_squared_error, make_scorer, accuracy_score\n",
    "%matplotlib inline"
   ]
  },
  {
   "cell_type": "code",
   "execution_count": 195,
   "metadata": {
    "scrolled": true
   },
   "outputs": [],
   "source": [
    "# Options\n",
    "sns.set_style(\"whitegrid\")\n",
    "pd.set_option('display.max_rows', 100)\n",
    "pd.set_option('display.max_columns', 100)\n",
    "pd.set_option('display.width', -1)"
   ]
  },
  {
   "cell_type": "code",
   "execution_count": 196,
   "metadata": {
    "scrolled": true
   },
   "outputs": [],
   "source": [
    "explore_in = './data/transformed_data/explore.csv'\n",
    "train_in = './data/transformed_data/model_train_linear.csv'\n",
    "test_in = './data/transformed_data/model_test_linear.csv'\n",
    "model_out = './data/transformed_data/linear_models.csv'"
   ]
  },
  {
   "cell_type": "code",
   "execution_count": 284,
   "metadata": {
    "scrolled": true
   },
   "outputs": [],
   "source": [
    "drop_vars = [\n",
    "    'Id', 'Neighborhood', 'MSZoning', 'BldgType', 'Functional', 'MSSubClass', \n",
    "    'Condition1', 'LotConfig', 'MasVnrType', 'SaleType', 'SaleCondition', 'Stories',\n",
    "]\n",
    "keep_vars = [\n",
    "    'SalePrice',            # Target\n",
    "    'OverallQual',          # 0.8\n",
    "#     'ExterQual',            # 0.7\n",
    "#     'YearBuilt',            # 0.5\n",
    "#     'YearRemodAdd',         # 0.5\n",
    "#     'MasVnrArea',           # 0.5\n",
    "    'TotalBsmtSF',          # 0.6\n",
    "    '1stFlrSF',             # 0.6\n",
    "    'GrLivArea',            # 0.7\n",
    "#     'FullBath',             # 0.6\n",
    "    'KitchenQual',          # 0.7\n",
    "    'TotRmsAbvGrd',         # 0.5\n",
    "    'Fireplaces',           # 0.5\n",
    "#     'GarageCars',           # 0.6\n",
    "    'GarageArea',           # 0.6\n",
    "#     'PropertyAge',          #-0.5\n",
    "    'TotalBath',            # 0.6\n",
    "#     'HasPorch',             # 0.4\n",
    "    'HeatingQC',            # 0.4\n",
    "    'TotalArea',            # 0.8\n",
    "    'CoreArea',             # 0.8\n",
    "    'Neighborhood_ordinal', # 0.7\n",
    "    'MSSubClass_ordinal',   # 0.5\n",
    "#     'MasVnrType_ordinal',   # 0.4\n",
    "    'Foundation_ordinal',   # 0.5 \n",
    "#     'SaleType_ordinal',     # 0.4\n",
    "    'SaleCondition_ordinal',# 0.3\n",
    "]\n",
    "\n",
    "test_vars = keep_vars.copy()\n",
    "test_vars.remove('SalePrice')"
   ]
  },
  {
   "cell_type": "markdown",
   "metadata": {},
   "source": [
    "#### Train Data"
   ]
  },
  {
   "cell_type": "code",
   "execution_count": 285,
   "metadata": {
    "scrolled": true
   },
   "outputs": [
    {
     "data": {
      "text/html": [
       "<div>\n",
       "<style scoped>\n",
       "    .dataframe tbody tr th:only-of-type {\n",
       "        vertical-align: middle;\n",
       "    }\n",
       "\n",
       "    .dataframe tbody tr th {\n",
       "        vertical-align: top;\n",
       "    }\n",
       "\n",
       "    .dataframe thead th {\n",
       "        text-align: right;\n",
       "    }\n",
       "</style>\n",
       "<table border=\"1\" class=\"dataframe\">\n",
       "  <thead>\n",
       "    <tr style=\"text-align: right;\">\n",
       "      <th></th>\n",
       "      <th>OverallQual</th>\n",
       "      <th>TotalBsmtSF</th>\n",
       "      <th>1stFlrSF</th>\n",
       "      <th>GrLivArea</th>\n",
       "      <th>KitchenQual</th>\n",
       "      <th>TotRmsAbvGrd</th>\n",
       "      <th>Fireplaces</th>\n",
       "      <th>GarageArea</th>\n",
       "      <th>TotalBath</th>\n",
       "      <th>HeatingQC</th>\n",
       "      <th>TotalArea</th>\n",
       "      <th>CoreArea</th>\n",
       "      <th>Neighborhood_ordinal</th>\n",
       "      <th>MSSubClass_ordinal</th>\n",
       "      <th>Foundation_ordinal</th>\n",
       "      <th>SaleCondition_ordinal</th>\n",
       "    </tr>\n",
       "  </thead>\n",
       "  <tbody>\n",
       "    <tr>\n",
       "      <th>0</th>\n",
       "      <td>0.510826</td>\n",
       "      <td>0.131114</td>\n",
       "      <td>0.113132</td>\n",
       "      <td>0.230501</td>\n",
       "      <td>0.666667</td>\n",
       "      <td>0.500000</td>\n",
       "      <td>0.000000</td>\n",
       "      <td>0.326754</td>\n",
       "      <td>0.5</td>\n",
       "      <td>1.00</td>\n",
       "      <td>0.195330</td>\n",
       "      <td>0.178548</td>\n",
       "      <td>0.666667</td>\n",
       "      <td>1.000000</td>\n",
       "      <td>1.000000</td>\n",
       "      <td>0.5</td>\n",
       "    </tr>\n",
       "    <tr>\n",
       "      <th>1</th>\n",
       "      <td>0.441833</td>\n",
       "      <td>0.187762</td>\n",
       "      <td>0.193049</td>\n",
       "      <td>0.161124</td>\n",
       "      <td>0.333333</td>\n",
       "      <td>0.333333</td>\n",
       "      <td>0.333333</td>\n",
       "      <td>0.280960</td>\n",
       "      <td>0.3</td>\n",
       "      <td>1.00</td>\n",
       "      <td>0.170937</td>\n",
       "      <td>0.175467</td>\n",
       "      <td>0.791667</td>\n",
       "      <td>0.714286</td>\n",
       "      <td>0.666667</td>\n",
       "      <td>0.5</td>\n",
       "    </tr>\n",
       "    <tr>\n",
       "      <th>2</th>\n",
       "      <td>0.510826</td>\n",
       "      <td>0.140260</td>\n",
       "      <td>0.126161</td>\n",
       "      <td>0.241808</td>\n",
       "      <td>0.666667</td>\n",
       "      <td>0.333333</td>\n",
       "      <td>0.333333</td>\n",
       "      <td>0.356816</td>\n",
       "      <td>0.5</td>\n",
       "      <td>1.00</td>\n",
       "      <td>0.205897</td>\n",
       "      <td>0.188753</td>\n",
       "      <td>0.666667</td>\n",
       "      <td>1.000000</td>\n",
       "      <td>1.000000</td>\n",
       "      <td>0.5</td>\n",
       "    </tr>\n",
       "    <tr>\n",
       "      <th>3</th>\n",
       "      <td>0.510826</td>\n",
       "      <td>0.116655</td>\n",
       "      <td>0.134420</td>\n",
       "      <td>0.231548</td>\n",
       "      <td>0.666667</td>\n",
       "      <td>0.416667</td>\n",
       "      <td>0.333333</td>\n",
       "      <td>0.373459</td>\n",
       "      <td>0.2</td>\n",
       "      <td>0.75</td>\n",
       "      <td>0.191092</td>\n",
       "      <td>0.171712</td>\n",
       "      <td>0.750000</td>\n",
       "      <td>0.642857</td>\n",
       "      <td>0.333333</td>\n",
       "      <td>0.0</td>\n",
       "    </tr>\n",
       "    <tr>\n",
       "      <th>4</th>\n",
       "      <td>0.575364</td>\n",
       "      <td>0.171764</td>\n",
       "      <td>0.170666</td>\n",
       "      <td>0.300969</td>\n",
       "      <td>0.666667</td>\n",
       "      <td>0.583333</td>\n",
       "      <td>0.333333</td>\n",
       "      <td>0.463459</td>\n",
       "      <td>0.5</td>\n",
       "      <td>1.00</td>\n",
       "      <td>0.255683</td>\n",
       "      <td>0.233910</td>\n",
       "      <td>0.958333</td>\n",
       "      <td>1.000000</td>\n",
       "      <td>1.000000</td>\n",
       "      <td>0.5</td>\n",
       "    </tr>\n",
       "  </tbody>\n",
       "</table>\n",
       "</div>"
      ],
      "text/plain": [
       "   OverallQual  \\\n",
       "0     0.510826   \n",
       "1     0.441833   \n",
       "2     0.510826   \n",
       "3     0.510826   \n",
       "4     0.575364   \n",
       "\n",
       "   TotalBsmtSF  \\\n",
       "0     0.131114   \n",
       "1     0.187762   \n",
       "2     0.140260   \n",
       "3     0.116655   \n",
       "4     0.171764   \n",
       "\n",
       "   1stFlrSF  \\\n",
       "0  0.113132   \n",
       "1  0.193049   \n",
       "2  0.126161   \n",
       "3  0.134420   \n",
       "4  0.170666   \n",
       "\n",
       "   GrLivArea  \\\n",
       "0   0.230501   \n",
       "1   0.161124   \n",
       "2   0.241808   \n",
       "3   0.231548   \n",
       "4   0.300969   \n",
       "\n",
       "   KitchenQual  \\\n",
       "0     0.666667   \n",
       "1     0.333333   \n",
       "2     0.666667   \n",
       "3     0.666667   \n",
       "4     0.666667   \n",
       "\n",
       "   TotRmsAbvGrd  \\\n",
       "0      0.500000   \n",
       "1      0.333333   \n",
       "2      0.333333   \n",
       "3      0.416667   \n",
       "4      0.583333   \n",
       "\n",
       "   Fireplaces  \\\n",
       "0    0.000000   \n",
       "1    0.333333   \n",
       "2    0.333333   \n",
       "3    0.333333   \n",
       "4    0.333333   \n",
       "\n",
       "   GarageArea  \\\n",
       "0    0.326754   \n",
       "1    0.280960   \n",
       "2    0.356816   \n",
       "3    0.373459   \n",
       "4    0.463459   \n",
       "\n",
       "   TotalBath  \\\n",
       "0        0.5   \n",
       "1        0.3   \n",
       "2        0.5   \n",
       "3        0.2   \n",
       "4        0.5   \n",
       "\n",
       "   HeatingQC  \\\n",
       "0       1.00   \n",
       "1       1.00   \n",
       "2       1.00   \n",
       "3       0.75   \n",
       "4       1.00   \n",
       "\n",
       "   TotalArea  \\\n",
       "0   0.195330   \n",
       "1   0.170937   \n",
       "2   0.205897   \n",
       "3   0.191092   \n",
       "4   0.255683   \n",
       "\n",
       "   CoreArea  \\\n",
       "0  0.178548   \n",
       "1  0.175467   \n",
       "2  0.188753   \n",
       "3  0.171712   \n",
       "4  0.233910   \n",
       "\n",
       "   Neighborhood_ordinal  \\\n",
       "0              0.666667   \n",
       "1              0.791667   \n",
       "2              0.666667   \n",
       "3              0.750000   \n",
       "4              0.958333   \n",
       "\n",
       "   MSSubClass_ordinal  \\\n",
       "0            1.000000   \n",
       "1            0.714286   \n",
       "2            1.000000   \n",
       "3            0.642857   \n",
       "4            1.000000   \n",
       "\n",
       "   Foundation_ordinal  \\\n",
       "0            1.000000   \n",
       "1            0.666667   \n",
       "2            1.000000   \n",
       "3            0.333333   \n",
       "4            1.000000   \n",
       "\n",
       "   SaleCondition_ordinal  \n",
       "0                    0.5  \n",
       "1                    0.5  \n",
       "2                    0.5  \n",
       "3                    0.0  \n",
       "4                    0.5  "
      ]
     },
     "execution_count": 285,
     "metadata": {},
     "output_type": "execute_result"
    }
   ],
   "source": [
    "df_train_in = pd.read_csv(train_in)\n",
    "features = df_train_in[keep_vars].drop('SalePrice', axis=1)\n",
    "target = np.log1p(df_train_in['SalePrice'])\n",
    "features.head()"
   ]
  },
  {
   "cell_type": "code",
   "execution_count": 286,
   "metadata": {},
   "outputs": [],
   "source": [
    "def rmse(pred, true):\n",
    "    error = 0\n",
    "    for x,y in zip(pred,true):\n",
    "        error+=(x-y)**2\n",
    "    error/=len(pred)\n",
    "    return np.sqrt(error)\n",
    "\n",
    "\n",
    "def validate_model(model, train_features, train_target, test_features, test_target):\n",
    "    model.fit(train_features, train_target)\n",
    "    print(\"Training Error: \", rmse(model.predict(train_features), train_target))\n",
    "    print(\"Test Error: \", rmse(model.predict(test_features), test_target))"
   ]
  },
  {
   "cell_type": "code",
   "execution_count": 287,
   "metadata": {},
   "outputs": [
    {
     "name": "stderr",
     "output_type": "stream",
     "text": [
      "/usr/local/lib/python3.6/site-packages/ipykernel_launcher.py:5: FutureWarning: Method .as_matrix will be removed in a future version. Use .values instead.\n",
      "  \"\"\"\n",
      "/usr/local/lib/python3.6/site-packages/ipykernel_launcher.py:6: FutureWarning: Method .as_matrix will be removed in a future version. Use .values instead.\n",
      "  \n",
      "/usr/local/lib/python3.6/site-packages/ipykernel_launcher.py:7: FutureWarning: Method .as_matrix will be removed in a future version. Use .values instead.\n",
      "  import sys\n",
      "/usr/local/lib/python3.6/site-packages/ipykernel_launcher.py:8: FutureWarning: Method .as_matrix will be removed in a future version. Use .values instead.\n",
      "  \n"
     ]
    }
   ],
   "source": [
    "train_features, test_features, train_target, test_target = train_test_split(\n",
    "    features, target, test_size=0.2, random_state = 42\n",
    ")\n",
    "\n",
    "train_features = train_features.as_matrix()\n",
    "test_features = test_features.as_matrix()\n",
    "train_target = train_target.as_matrix()\n",
    "test_target = test_target.as_matrix()"
   ]
  },
  {
   "cell_type": "markdown",
   "metadata": {},
   "source": [
    "#### Submission Data"
   ]
  },
  {
   "cell_type": "code",
   "execution_count": 288,
   "metadata": {
    "scrolled": true
   },
   "outputs": [
    {
     "data": {
      "text/html": [
       "<div>\n",
       "<style scoped>\n",
       "    .dataframe tbody tr th:only-of-type {\n",
       "        vertical-align: middle;\n",
       "    }\n",
       "\n",
       "    .dataframe tbody tr th {\n",
       "        vertical-align: top;\n",
       "    }\n",
       "\n",
       "    .dataframe thead th {\n",
       "        text-align: right;\n",
       "    }\n",
       "</style>\n",
       "<table border=\"1\" class=\"dataframe\">\n",
       "  <thead>\n",
       "    <tr style=\"text-align: right;\">\n",
       "      <th></th>\n",
       "      <th>OverallQual</th>\n",
       "      <th>TotalBsmtSF</th>\n",
       "      <th>1stFlrSF</th>\n",
       "      <th>GrLivArea</th>\n",
       "      <th>KitchenQual</th>\n",
       "      <th>TotRmsAbvGrd</th>\n",
       "      <th>Fireplaces</th>\n",
       "      <th>GarageArea</th>\n",
       "      <th>TotalBath</th>\n",
       "      <th>HeatingQC</th>\n",
       "      <th>TotalArea</th>\n",
       "      <th>CoreArea</th>\n",
       "      <th>Neighborhood_ordinal</th>\n",
       "      <th>MSSubClass_ordinal</th>\n",
       "      <th>Foundation_ordinal</th>\n",
       "      <th>SaleCondition_ordinal</th>\n",
       "    </tr>\n",
       "  </thead>\n",
       "  <tbody>\n",
       "    <tr>\n",
       "      <th>0</th>\n",
       "      <td>0.367725</td>\n",
       "      <td>0.159659</td>\n",
       "      <td>0.099220</td>\n",
       "      <td>0.099220</td>\n",
       "      <td>0.6</td>\n",
       "      <td>0.166667</td>\n",
       "      <td>0.00</td>\n",
       "      <td>0.399173</td>\n",
       "      <td>0.000000</td>\n",
       "      <td>0.50</td>\n",
       "      <td>0.098318</td>\n",
       "      <td>0.114879</td>\n",
       "      <td>0.375000</td>\n",
       "      <td>0.067114</td>\n",
       "      <td>0.666667</td>\n",
       "      <td>0.5</td>\n",
       "    </tr>\n",
       "    <tr>\n",
       "      <th>1</th>\n",
       "      <td>0.441833</td>\n",
       "      <td>0.231781</td>\n",
       "      <td>0.179545</td>\n",
       "      <td>0.179545</td>\n",
       "      <td>0.8</td>\n",
       "      <td>0.250000</td>\n",
       "      <td>0.00</td>\n",
       "      <td>0.190354</td>\n",
       "      <td>0.083333</td>\n",
       "      <td>0.50</td>\n",
       "      <td>0.179545</td>\n",
       "      <td>0.193603</td>\n",
       "      <td>0.375000</td>\n",
       "      <td>0.067114</td>\n",
       "      <td>0.666667</td>\n",
       "      <td>0.5</td>\n",
       "    </tr>\n",
       "    <tr>\n",
       "      <th>2</th>\n",
       "      <td>0.367725</td>\n",
       "      <td>0.167326</td>\n",
       "      <td>0.105382</td>\n",
       "      <td>0.231640</td>\n",
       "      <td>0.6</td>\n",
       "      <td>0.250000</td>\n",
       "      <td>0.25</td>\n",
       "      <td>0.280601</td>\n",
       "      <td>0.250000</td>\n",
       "      <td>0.75</td>\n",
       "      <td>0.191299</td>\n",
       "      <td>0.184876</td>\n",
       "      <td>0.541667</td>\n",
       "      <td>0.093960</td>\n",
       "      <td>1.000000</td>\n",
       "      <td>0.5</td>\n",
       "    </tr>\n",
       "    <tr>\n",
       "      <th>3</th>\n",
       "      <td>0.441833</td>\n",
       "      <td>0.166994</td>\n",
       "      <td>0.104998</td>\n",
       "      <td>0.227401</td>\n",
       "      <td>0.8</td>\n",
       "      <td>0.333333</td>\n",
       "      <td>0.25</td>\n",
       "      <td>0.274491</td>\n",
       "      <td>0.250000</td>\n",
       "      <td>1.00</td>\n",
       "      <td>0.188241</td>\n",
       "      <td>0.182530</td>\n",
       "      <td>0.541667</td>\n",
       "      <td>0.093960</td>\n",
       "      <td>1.000000</td>\n",
       "      <td>0.5</td>\n",
       "    </tr>\n",
       "    <tr>\n",
       "      <th>4</th>\n",
       "      <td>0.575364</td>\n",
       "      <td>0.224124</td>\n",
       "      <td>0.170772</td>\n",
       "      <td>0.170772</td>\n",
       "      <td>0.8</td>\n",
       "      <td>0.166667</td>\n",
       "      <td>0.00</td>\n",
       "      <td>0.292710</td>\n",
       "      <td>0.166667</td>\n",
       "      <td>1.00</td>\n",
       "      <td>0.170772</td>\n",
       "      <td>0.185137</td>\n",
       "      <td>0.916667</td>\n",
       "      <td>0.087248</td>\n",
       "      <td>1.000000</td>\n",
       "      <td>0.5</td>\n",
       "    </tr>\n",
       "  </tbody>\n",
       "</table>\n",
       "</div>"
      ],
      "text/plain": [
       "   OverallQual  \\\n",
       "0     0.367725   \n",
       "1     0.441833   \n",
       "2     0.367725   \n",
       "3     0.441833   \n",
       "4     0.575364   \n",
       "\n",
       "   TotalBsmtSF  \\\n",
       "0     0.159659   \n",
       "1     0.231781   \n",
       "2     0.167326   \n",
       "3     0.166994   \n",
       "4     0.224124   \n",
       "\n",
       "   1stFlrSF  \\\n",
       "0  0.099220   \n",
       "1  0.179545   \n",
       "2  0.105382   \n",
       "3  0.104998   \n",
       "4  0.170772   \n",
       "\n",
       "   GrLivArea  \\\n",
       "0   0.099220   \n",
       "1   0.179545   \n",
       "2   0.231640   \n",
       "3   0.227401   \n",
       "4   0.170772   \n",
       "\n",
       "   KitchenQual  \\\n",
       "0          0.6   \n",
       "1          0.8   \n",
       "2          0.6   \n",
       "3          0.8   \n",
       "4          0.8   \n",
       "\n",
       "   TotRmsAbvGrd  \\\n",
       "0      0.166667   \n",
       "1      0.250000   \n",
       "2      0.250000   \n",
       "3      0.333333   \n",
       "4      0.166667   \n",
       "\n",
       "   Fireplaces  \\\n",
       "0        0.00   \n",
       "1        0.00   \n",
       "2        0.25   \n",
       "3        0.25   \n",
       "4        0.00   \n",
       "\n",
       "   GarageArea  \\\n",
       "0    0.399173   \n",
       "1    0.190354   \n",
       "2    0.280601   \n",
       "3    0.274491   \n",
       "4    0.292710   \n",
       "\n",
       "   TotalBath  \\\n",
       "0   0.000000   \n",
       "1   0.083333   \n",
       "2   0.250000   \n",
       "3   0.250000   \n",
       "4   0.166667   \n",
       "\n",
       "   HeatingQC  \\\n",
       "0       0.50   \n",
       "1       0.50   \n",
       "2       0.75   \n",
       "3       1.00   \n",
       "4       1.00   \n",
       "\n",
       "   TotalArea  \\\n",
       "0   0.098318   \n",
       "1   0.179545   \n",
       "2   0.191299   \n",
       "3   0.188241   \n",
       "4   0.170772   \n",
       "\n",
       "   CoreArea  \\\n",
       "0  0.114879   \n",
       "1  0.193603   \n",
       "2  0.184876   \n",
       "3  0.182530   \n",
       "4  0.185137   \n",
       "\n",
       "   Neighborhood_ordinal  \\\n",
       "0              0.375000   \n",
       "1              0.375000   \n",
       "2              0.541667   \n",
       "3              0.541667   \n",
       "4              0.916667   \n",
       "\n",
       "   MSSubClass_ordinal  \\\n",
       "0            0.067114   \n",
       "1            0.067114   \n",
       "2            0.093960   \n",
       "3            0.093960   \n",
       "4            0.087248   \n",
       "\n",
       "   Foundation_ordinal  \\\n",
       "0            0.666667   \n",
       "1            0.666667   \n",
       "2            1.000000   \n",
       "3            1.000000   \n",
       "4            1.000000   \n",
       "\n",
       "   SaleCondition_ordinal  \n",
       "0                    0.5  \n",
       "1                    0.5  \n",
       "2                    0.5  \n",
       "3                    0.5  \n",
       "4                    0.5  "
      ]
     },
     "execution_count": 288,
     "metadata": {},
     "output_type": "execute_result"
    }
   ],
   "source": [
    "df_sub_in = pd.read_csv('./data/transformed_data/model_test_linear.csv')\n",
    "sub_features = df_sub_in[test_vars]\n",
    "sub_features.head()"
   ]
  },
  {
   "cell_type": "markdown",
   "metadata": {},
   "source": [
    "#### Ridge"
   ]
  },
  {
   "cell_type": "code",
   "execution_count": 289,
   "metadata": {
    "scrolled": true
   },
   "outputs": [
    {
     "name": "stdout",
     "output_type": "stream",
     "text": [
      "Training Error:  0.1458750239993885\n",
      "Test Error:  0.1456480957072443\n"
     ]
    }
   ],
   "source": [
    "# CV Model\n",
    "alphas = [0.0001, 0.001, 0.01, 0.03, 0.06, 0.1, 0.2]\n",
    "ridge = RidgeCV(alphas=alphas, cv=20)\n",
    "validate_model(ridge, train_features, train_target, test_features, test_target)"
   ]
  },
  {
   "cell_type": "code",
   "execution_count": 290,
   "metadata": {},
   "outputs": [
    {
     "data": {
      "image/png": "[encoded data removed]",
      "text/plain": [
       "<Figure size 432x1440 with 1 Axes>"
      ]
     },
     "metadata": {
      "needs_background": "light"
     },
     "output_type": "display_data"
    }
   ],
   "source": [
    "coefs = ridge.coef_\n",
    "plt.figure(figsize=(6, 20))\n",
    "plt.barh(np.arange(coefs.size), coefs)\n",
    "plt.yticks(np.arange(coefs.size), features)\n",
    "plt.title(\"Coefficients\")\n",
    "plt.tight_layout()"
   ]
  },
  {
   "cell_type": "code",
   "execution_count": 291,
   "metadata": {},
   "outputs": [],
   "source": [
    "# Final Model\n",
    "alpha = ridge.alpha_\n",
    "ridge = Ridge(alpha=alpha)\n",
    "ridge.fit(features, target)\n",
    "\n",
    "# Submission\n",
    "df_sub = pd.DataFrame()\n",
    "df_sub['Id'] = df_sub_in['Id']\n",
    "df_sub['SalePrice'] = np.round(np.expm1(ridge.predict(sub_features)),0)\n",
    "df_sub['SalePrice'] = (df_sub['SalePrice'] / 100).astype(int) * 100\n",
    "df_sub.to_csv('./data/output_data/ridge_submission.csv', index=False)"
   ]
  },
  {
   "cell_type": "markdown",
   "metadata": {},
   "source": [
    "#### Lasso"
   ]
  },
  {
   "cell_type": "code",
   "execution_count": 181,
   "metadata": {
    "scrolled": false
   },
   "outputs": [
    {
     "name": "stdout",
     "output_type": "stream",
     "text": [
      "Training Error:  0.19142274869642642\n",
      "Test Error:  0.21148287170096364\n"
     ]
    }
   ],
   "source": [
    "alphas = [0.01, 0.03, 0.06, 0.1, 0.2, 0.3, 0.4, 0.5, 0.6, 0.7, 0.8, 0.9, 1, 2, 3, 5, 10, 50]\n",
    "lasso = LassoCV(alphas=alphas, cv=20)\n",
    "validate_model(lasso, train_features, train_target, test_features, test_target)"
   ]
  },
  {
   "cell_type": "markdown",
   "metadata": {},
   "source": [
    "#### Elastic"
   ]
  },
  {
   "cell_type": "code",
   "execution_count": 182,
   "metadata": {},
   "outputs": [
    {
     "name": "stdout",
     "output_type": "stream",
     "text": [
      "Training Error:  0.3068905367629894\n",
      "Test Error:  0.34400260787606846\n"
     ]
    }
   ],
   "source": [
    "l1_ratio=0\n",
    "alphas=[0.0001, 0.001, 0.005, 0.01, 0.05, 0.1, 0.5, 1.0, 10],\n",
    "elastic = ElasticNetCV(l1_ratio=l1_ratio, alphas=alphas, max_iter=5000, cv=20)\n",
    "validate_model(elastic, train_features, train_target, test_features, test_target)"
   ]
  },
  {
   "cell_type": "markdown",
   "metadata": {},
   "source": [
    "#### Bayesian Ridge"
   ]
  },
  {
   "cell_type": "code",
   "execution_count": 310,
   "metadata": {},
   "outputs": [
    {
     "name": "stdout",
     "output_type": "stream",
     "text": [
      "Training Error:  0.14584851455213116\n",
      "Test Error:  0.1454225140938464\n"
     ]
    },
    {
     "data": {
      "text/plain": [
       "{'alpha_1': 1e-05, 'alpha_2': 30, 'lambda_1': 0.001, 'lambda_2': 10}"
      ]
     },
     "execution_count": 310,
     "metadata": {},
     "output_type": "execute_result"
    }
   ],
   "source": [
    "param_grid = {\n",
    "    'alpha_1': [0.00001, 0.0001, 0.001, 0.01, 0.03, 0.06, 0.1, 0.2, 0.5, 1],\n",
    "    'alpha_2': [10, 20, 30],\n",
    "    'lambda_1': [0.00001, 0.0001, 0.001],\n",
    "    'lambda_2': [10, 20, 30]\n",
    "}\n",
    "\n",
    "bayes = GridSearchCV(cv=5, estimator=BayesianRidge(), param_grid=param_grid)\n",
    "validate_model(bayes, train_features, train_target, test_features, test_target)\n",
    "params = bayes.best_params_\n",
    "params"
   ]
  },
  {
   "cell_type": "code",
   "execution_count": 315,
   "metadata": {},
   "outputs": [],
   "source": [
    "bayes = BayesianRidge(alpha_1=0.00001, alpha_2=30, lambda_1=0.001, lambda_2=10)\n",
    "bayes.fit(features, target)\n",
    "\n",
    "# Submission\n",
    "df_sub = pd.DataFrame()\n",
    "df_sub['Id'] = df_sub_in['Id']\n",
    "df_sub['SalePrice'] = np.round(np.expm1(bayes.predict(sub_features)),0)\n",
    "df_sub['SalePrice'] = (df_sub['SalePrice'] / 100).astype(int) * 100\n",
    "df_sub.to_csv('./data/output_data/bayes_submission.csv', index=False)"
   ]
  },
  {
   "cell_type": "markdown",
   "metadata": {},
   "source": [
    "#### Ridge Prediction Error"
   ]
  },
  {
   "cell_type": "code",
   "execution_count": null,
   "metadata": {
    "scrolled": true
   },
   "outputs": [],
   "source": [
    "visualizer = PredictionError(ridge)\n",
    "visualizer.fit(features, target)  \n",
    "visualizer.poof()             "
   ]
  },
  {
   "cell_type": "markdown",
   "metadata": {},
   "source": [
    "#### Ridge Submission"
   ]
  },
  {
   "cell_type": "code",
   "execution_count": null,
   "metadata": {
    "scrolled": true
   },
   "outputs": [],
   "source": [
    "predictions = ridge.predict(test_features)\n",
    "df_sub = pd.DataFrame()\n",
    "df_sub['Id'] = df_test_in['Id']\n",
    "df_sub['SalePrice'] = np.expm1(ridge.predict(test_features))\n",
    "df_sub.to_csv('./data/output_data/ridge_submission.csv', index=False)"
   ]
  },
  {
   "cell_type": "markdown",
   "metadata": {},
   "source": [
    "#### Lasso"
   ]
  },
  {
   "cell_type": "code",
   "execution_count": null,
   "metadata": {
    "scrolled": true
   },
   "outputs": [],
   "source": [
    "scoring = make_scorer(mean_squared_error)\n",
    "alphas = [0.01, 0.03, 0.06, 0.1, 0.2, 0.3, 0.4, 0.5, 0.6, 0.7, 0.8, 0.9, 1, 2, 3, 5, 10, 50]\n",
    "lasso = LassoCV(alphas=alphas)\n",
    "lasso.fit(features, target)\n",
    "mse = cross_val_score(lasso, features, target, cv=20, scoring=scoring)\n",
    "rmse = np.sqrt(mse)\n",
    "score = np.mean(rmse)\n",
    "score"
   ]
  },
  {
   "cell_type": "markdown",
   "metadata": {},
   "source": [
    "#### Lasso Coefficients"
   ]
  },
  {
   "cell_type": "code",
   "execution_count": null,
   "metadata": {
    "scrolled": true
   },
   "outputs": [],
   "source": [
    "coefs = lasso.coef_\n",
    "plt.figure(figsize=(6, 20))\n",
    "plt.barh(np.arange(coefs.size), coefs)\n",
    "plt.yticks(np.arange(coefs.size), features)\n",
    "plt.title(\"Coefficients\")\n",
    "plt.tight_layout()"
   ]
  },
  {
   "cell_type": "markdown",
   "metadata": {},
   "source": [
    "#### Lasso Submission"
   ]
  },
  {
   "cell_type": "code",
   "execution_count": null,
   "metadata": {
    "scrolled": true
   },
   "outputs": [],
   "source": [
    "predictions = lasso.predict(test_features)\n",
    "df_sub = pd.DataFrame()\n",
    "df_sub['Id'] = df_test_in['Id']\n",
    "df_sub['SalePrice'] = np.expm1(lasso.predict(test_features))\n",
    "df_sub.to_csv('./data/output_data/lasso_submission.csv', index=False)"
   ]
  },
  {
   "cell_type": "markdown",
   "metadata": {},
   "source": [
    "#### ElasticNet"
   ]
  },
  {
   "cell_type": "code",
   "execution_count": null,
   "metadata": {
    "scrolled": true
   },
   "outputs": [],
   "source": [
    "scoring = make_scorer(mean_squared_error)\n",
    "l1_ratio=0.5,\n",
    "alphas=[0.0001, 0.001, 0.005, 0.01, 0.05, 0.1, 0.5, 1.0, 10],\n",
    "elastic = ElasticNetCV(l1_ratio=l1_ratio, alphas=alphas, max_iter=5000)\n",
    "elastic.fit(features, target)\n",
    "elastic_score = np.mean(np.sqrt(cross_val_score(elastic, features, target, cv=20, scoring=scoring)))\n",
    "elastic_score"
   ]
  },
  {
   "cell_type": "code",
   "execution_count": null,
   "metadata": {
    "scrolled": true
   },
   "outputs": [],
   "source": [
    "coefs = elastic.coef_\n",
    "plt.figure(figsize=(6, 20))\n",
    "plt.barh(np.arange(coefs.size), coefs)\n",
    "plt.yticks(np.arange(coefs.size), features)\n",
    "plt.title(\"Coefficients\")\n",
    "plt.tight_layout()"
   ]
  },
  {
   "cell_type": "code",
   "execution_count": null,
   "metadata": {
    "scrolled": true
   },
   "outputs": [],
   "source": []
  }
 ],
 "metadata": {
  "kernelspec": {
   "display_name": "Python 3",
   "language": "python",
   "name": "python3"
  },
  "language_info": {
   "codemirror_mode": {
    "name": "ipython",
    "version": 3
   },
   "file_extension": ".py",
   "mimetype": "text/x-python",
   "name": "python",
   "nbconvert_exporter": "python",
   "pygments_lexer": "ipython3",
   "version": "3.6.5"
  }
 },
 "nbformat": 4,
 "nbformat_minor": 2
}
